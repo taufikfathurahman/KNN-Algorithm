{
 "cells": [
  {
   "cell_type": "markdown",
   "metadata": {},
   "source": [
    "# K-Nearest Neighbor\n",
    "\n",
    "Berikut ini adalah langkah-langkah dalam menyelesaikan permasalahan klasifikasi menggunakan KNN :"
   ]
  },
  {
   "cell_type": "markdown",
   "metadata": {},
   "source": [
    "### 1. Membaca data train"
   ]
  },
  {
   "cell_type": "code",
   "execution_count": null,
   "metadata": {
    "scrolled": true
   },
   "outputs": [],
   "source": [
    "import pandas as pd\n",
    "\n",
    "data_train_from_csv = pd.read_csv('dataTrain.csv')\n",
    "\n",
    "data_train_from_csv.head()"
   ]
  },
  {
   "cell_type": "markdown",
   "metadata": {},
   "source": [
    "### 2. Menghitung Euclidean Distance\n",
    "\n",
    "Dalam melakukan perhitungan jarak pada KNN dapat digunakan bebrapa teori, diantanya adalah *euclidean* dan *manhattan*. Dalam percobaan kali ini akan dilakukan dengan menggunakan teori *euclidean* dalam menghitung jaraknya.\n",
    "\n",
    "*Euclidean distance* melakukan perhitungan jarak antara dua buah titik dalam *euclidean space*. Berikut adalah formulanya :\n",
    "\n",
    "<img src=\"assets/euclidean.png\">"
   ]
  },
  {
   "cell_type": "code",
   "execution_count": null,
   "metadata": {},
   "outputs": [],
   "source": [
    "import numpy as np\n",
    "\n",
    "def euclideanDistance(data_train, data_test):\n",
    "    distanceSum = 0\n",
    "    for i in range(len(data_train)-1):\n",
    "        distanceSum += (data_train[i]-data_test[i])**2\n",
    "    return np.sqrt(distanceSum)"
   ]
  },
  {
   "cell_type": "markdown",
   "metadata": {},
   "source": [
    "### 3. KNN Algorithm\n",
    "\n",
    "KNN merupakan algoritma yang digunakan dalam melakukan memecahkan permasalahan klasifikasi, sehingga menghasilkan output diskrit. Contoh untuk output berupa diskrit adalah output yang hasilnya pasti seperti ketika menghitung 1 + 1 = 2, jawabannya bukan mendekati 2. KNN akan melakukan klasifikasi terhadap objek berdasarkan data pembelajaran yang jaraknya paling dekat dengan objek tersebut.\n",
    "\n",
    "KNN akan bekerja berdasarkan jarak minimum dari data baru ke data training untuk menentukan tetangga terdekat. Setelah itu akan didapatkan data mayoritas sebagai hasil prediksi dari data baru tadi."
   ]
  },
  {
   "cell_type": "code",
   "execution_count": null,
   "metadata": {},
   "outputs": [],
   "source": [
    "import operator\n",
    "\n",
    "def kNearestNeighbor(data_train, data_test, k):\n",
    "    distances = {}\n",
    "    sort = {}\n",
    "    neighbors = []\n",
    "    vote_class = {}\n",
    "  \n",
    "    for i in range(len(data_train)):\n",
    "        distance = euclideanDistance(data_train.iloc[i], data_test)\n",
    "        distances[i] = distance\n",
    "  \n",
    "    sorted_distances = sorted(distances.items(), key=operator.itemgetter(1))\n",
    "  \n",
    "    for i in range(k):\n",
    "        neighbors.append(sorted_distances[i][0])\n",
    "    \n",
    "    for x in range(len(neighbors)):\n",
    "        class_in_datatrain = data_train.iloc[neighbors[x]][-1]\n",
    "    \n",
    "        if class_in_datatrain in vote_class:\n",
    "            vote_class[class_in_datatrain] += 1\n",
    "        else:\n",
    "            vote_class[class_in_datatrain] = 1\n",
    "  \n",
    "    sorted_vote_class = sorted(vote_class.items(), key=operator.itemgetter(1))\n",
    "  \n",
    "    return sorted_vote_class[-1][0]"
   ]
  },
  {
   "cell_type": "markdown",
   "metadata": {},
   "source": [
    "### 4. Menghitung akurasi\n",
    "\n",
    "Akurasi akan didapatkan dari perbandingan hasil prediksi dengan data sebenarnya."
   ]
  },
  {
   "cell_type": "code",
   "execution_count": null,
   "metadata": {},
   "outputs": [],
   "source": [
    "def predictionAccuracy(prediction_data, data_test):\n",
    "    accurate = 0\n",
    "  \n",
    "    for i in range(len(prediction_data)):\n",
    "        if prediction_data[i] == data_test.iloc[i][-1]:\n",
    "            accurate += 1\n",
    "      \n",
    "    return (accurate/len(prediction_data)) * 100"
   ]
  },
  {
   "cell_type": "markdown",
   "metadata": {},
   "source": [
    "### 5. Cross Validation & Tuning Parameter\n",
    "\n",
    "**Cross Validation**\n",
    "\n",
    "*Cross validation* merupakn metode statistik dalam melakukan evaluasi kinerja dari suatu model atau algoritma dengan melakukan pembagian data menjadi dua subset, yaitu `data pengujian` dan `data pelatihan`.\n",
    "\n",
    "> **K-Fold Cross Validation**\n",
    "K-Fold Cross Validation merupakan salah satu metode Cross validation yang bekerja dengan melipat data sebanyak K dan melakukan perulangan sebanyak K juga. Contohnya untuk k = 10:\n",
    "\n",
    "<img src=\"assets/k-fold.png\">\n",
    "\n",
    "**Tuning Parameter**\n",
    "\n",
    "Untuk mendapatkan akurasi yang terbaik saat melakukan klasifikasi di KNN, akan sangat bergantung pada nilai `K` yang kita berikan. Proses dalam mencari `K` terbaik dapat disebut sebagain *Tuning Parameter8* atau *Hyperparameter*."
   ]
  },
  {
   "cell_type": "code",
   "execution_count": null,
   "metadata": {},
   "outputs": [],
   "source": [
    "import matplotlib.pyplot as plt\n",
    "\n",
    "def crossValFtTunParam(data_train_from_csv):\n",
    "    fold1 = data_train_from_csv.iloc[0:800]\n",
    "    fold2 = data_train_from_csv.iloc[800:1600]\n",
    "    fold3 = data_train_from_csv.iloc[1600:2400]\n",
    "    fold4 = data_train_from_csv.iloc[2400:3200]\n",
    "    fold5 = data_train_from_csv.iloc[3200:]\n",
    "    k_range = range(1, 25)\n",
    "    best_k = {}\n",
    "    for k in k_range:\n",
    "        accuracy_crossval = []\n",
    "        for i in range(1,6):\n",
    "            prediction_data = []\n",
    "            if i == 1:\n",
    "                data_test = fold1\n",
    "                data_train = pd.concat([fold2, fold3, fold4, fold5])\n",
    "            elif i == 2:\n",
    "                data_test = fold2\n",
    "                data_train = pd.concat([fold1, fold3, fold4, fold5])\n",
    "            elif i == 3:\n",
    "                data_test = fold3\n",
    "                data_train = pd.concat([fold1, fold2, fold4, fold5])\n",
    "            elif i == 4:\n",
    "                data_test = fold4\n",
    "                data_train = pd.concat([fold1, fold2, fold3, fold5])\n",
    "            else:\n",
    "                data_test = fold5\n",
    "                data_train = pd.concat([fold1, fold2, fold3, fold4])\n",
    "\n",
    "            for x in range(len(data_test)):\n",
    "                prediction_data.append(kNearestNeighbor(data_train, data_test.iloc[x], k))\n",
    "                \n",
    "            print('i =>', i)\n",
    "            print(prediction_data)\n",
    "            \n",
    "            tmp_accuracy = predictionAccuracy(prediction_data, data_test)\n",
    "            accuracy_crossval.append(tmp_accuracy)\n",
    "            \n",
    "            print('Accuracy =>', tmp_accuracy)\n",
    "        \n",
    "        best_k[k] = sum(accuracy_crossval)/len(accuracy_crossval)\n",
    "        \n",
    "    plt.plot(k_range, best_k.values())\n",
    "    plt.xlabel('Nomor K')\n",
    "    plt.ylabel('Akurasi K')\n",
    "    plt.show()\n",
    "    \n",
    "    K = max(best_k.items(), key=operator.itemgetter(1))[0]\n",
    "    \n",
    "    print(best_k)\n",
    "        \n",
    "    return K, best_k[K]"
   ]
  },
  {
   "cell_type": "markdown",
   "metadata": {},
   "source": [
    "### Mencari K terbaik dan Akurasinya"
   ]
  },
  {
   "cell_type": "code",
   "execution_count": null,
   "metadata": {},
   "outputs": [],
   "source": [
    "best_k, accuracy = crossValFtTunParam(data_train_from_csv)\n",
    "print('Best k : ', best_k)\n",
    "print('Accuracy : ', accuracy, '%')"
   ]
  },
  {
   "cell_type": "markdown",
   "metadata": {},
   "source": [
    "### Calculate Data Test CSV"
   ]
  },
  {
   "cell_type": "code",
   "execution_count": null,
   "metadata": {},
   "outputs": [],
   "source": [
    "data_test_from_csv = pd.read_csv('dataTest.csv')\n",
    "\n",
    "data_test_from_csv.head()"
   ]
  },
  {
   "cell_type": "code",
   "execution_count": null,
   "metadata": {},
   "outputs": [],
   "source": [
    "prediction_data = []\n",
    "\n",
    "for x in range(len(data_test_from_csv)):\n",
    "    prediction_data.append(int(kNearestNeighbor(data_train_from_csv, data_test_from_csv.iloc[x], best_k)))"
   ]
  },
  {
   "cell_type": "code",
   "execution_count": null,
   "metadata": {},
   "outputs": [],
   "source": [
    "data_test_from_csv['kelas'] = prediction_data\n",
    "\n",
    "data_test_from_csv.to_csv('Prediksi_Tugas2AI_1301160790.csv')"
   ]
  },
  {
   "cell_type": "markdown",
   "metadata": {},
   "source": [
    "### Hasil Prediksi"
   ]
  },
  {
   "cell_type": "code",
   "execution_count": null,
   "metadata": {},
   "outputs": [],
   "source": [
    "data_hasil_from_csv = pd.read_csv('Prediksi_Tugas2AI_1301160790.csv')\n",
    "\n",
    "print(data_hasil_from_csv)"
   ]
  }
 ],
 "metadata": {
  "kernelspec": {
   "display_name": "Python 3",
   "language": "python",
   "name": "python3"
  },
  "language_info": {
   "codemirror_mode": {
    "name": "ipython",
    "version": 3
   },
   "file_extension": ".py",
   "mimetype": "text/x-python",
   "name": "python",
   "nbconvert_exporter": "python",
   "pygments_lexer": "ipython3",
   "version": "3.7.1"
  }
 },
 "nbformat": 4,
 "nbformat_minor": 2
}
