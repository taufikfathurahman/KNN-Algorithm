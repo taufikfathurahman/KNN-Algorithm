{
 "cells": [
  {
   "cell_type": "markdown",
   "metadata": {},
   "source": [
    "# K-Nearest Neighbor\n",
    "\n",
    "Berikut ini adalah langkah-langkah dalam menyelesaikan permasalahan klasifikasi menggunakan KNN :"
   ]
  },
  {
   "cell_type": "markdown",
   "metadata": {},
   "source": [
    "### 1. Membaca Data Train\n",
    "\n",
    "Membaca data yang akan *di-train* untuk mendapatkan `K` terbaik, akurasi, dan yang akan digunakan untuk memprediksi *data test* nantinya."
   ]
  },
  {
   "cell_type": "code",
   "execution_count": 2,
   "metadata": {},
   "outputs": [
    {
     "data": {
      "text/html": [
       "<div>\n",
       "<style scoped>\n",
       "    .dataframe tbody tr th:only-of-type {\n",
       "        vertical-align: middle;\n",
       "    }\n",
       "\n",
       "    .dataframe tbody tr th {\n",
       "        vertical-align: top;\n",
       "    }\n",
       "\n",
       "    .dataframe thead th {\n",
       "        text-align: right;\n",
       "    }\n",
       "</style>\n",
       "<table border=\"1\" class=\"dataframe\">\n",
       "  <thead>\n",
       "    <tr style=\"text-align: right;\">\n",
       "      <th></th>\n",
       "      <th>atribut 1</th>\n",
       "      <th>atribut 2</th>\n",
       "      <th>atribut 3</th>\n",
       "      <th>atribut 4</th>\n",
       "      <th>kelas</th>\n",
       "    </tr>\n",
       "  </thead>\n",
       "  <tbody>\n",
       "    <tr>\n",
       "      <th>0</th>\n",
       "      <td>17.4</td>\n",
       "      <td>61.250</td>\n",
       "      <td>10.4</td>\n",
       "      <td>21.0</td>\n",
       "      <td>1</td>\n",
       "    </tr>\n",
       "    <tr>\n",
       "      <th>1</th>\n",
       "      <td>16.2</td>\n",
       "      <td>34.375</td>\n",
       "      <td>14.8</td>\n",
       "      <td>15.6</td>\n",
       "      <td>1</td>\n",
       "    </tr>\n",
       "    <tr>\n",
       "      <th>2</th>\n",
       "      <td>11.4</td>\n",
       "      <td>46.875</td>\n",
       "      <td>10.8</td>\n",
       "      <td>9.9</td>\n",
       "      <td>0</td>\n",
       "    </tr>\n",
       "    <tr>\n",
       "      <th>3</th>\n",
       "      <td>12.6</td>\n",
       "      <td>76.250</td>\n",
       "      <td>18.0</td>\n",
       "      <td>25.5</td>\n",
       "      <td>1</td>\n",
       "    </tr>\n",
       "    <tr>\n",
       "      <th>4</th>\n",
       "      <td>16.2</td>\n",
       "      <td>55.000</td>\n",
       "      <td>9.8</td>\n",
       "      <td>15.9</td>\n",
       "      <td>0</td>\n",
       "    </tr>\n",
       "  </tbody>\n",
       "</table>\n",
       "</div>"
      ],
      "text/plain": [
       "   atribut 1  atribut 2  atribut 3  atribut 4  kelas\n",
       "0       17.4     61.250       10.4       21.0      1\n",
       "1       16.2     34.375       14.8       15.6      1\n",
       "2       11.4     46.875       10.8        9.9      0\n",
       "3       12.6     76.250       18.0       25.5      1\n",
       "4       16.2     55.000        9.8       15.9      0"
      ]
     },
     "execution_count": 2,
     "metadata": {},
     "output_type": "execute_result"
    }
   ],
   "source": [
    "import pandas as pd\n",
    "\n",
    "data_train = pd.read_csv('dataTrain.csv')\n",
    "data_train.head()"
   ]
  },
  {
   "cell_type": "markdown",
   "metadata": {},
   "source": [
    "### 2. Menghitung Euclidean Distance\n",
    "\n",
    "Dalam melakukan perhitungan jarak pada KNN dapat digunakan bebrapa teori, diantanya adalah *euclidean* dan *manhattan*. Dalam percobaan kali ini akan dilakukan dengan menggunakan teori *euclidean* dalam menghitung jaraknya.\n",
    "\n",
    "*Euclidean distance* melakukan perhitungan jarak antara dua buah titik dalam *euclidean space*. Berikut adalah formulanya :\n",
    "\n",
    "<img src=\"assets/euclidean.png\">"
   ]
  },
  {
   "cell_type": "code",
   "execution_count": 9,
   "metadata": {},
   "outputs": [],
   "source": [
    "import numpy as np\n",
    "\n",
    "def euclideanDistance(data_train, data_test):\n",
    "    distance_sum = 0\n",
    "    for i in range(len(data_train)-1):\n",
    "        distance_sum += (data_train[i]-data_test[i])**2\n",
    "    return np.sqrt(distance_sum)"
   ]
  },
  {
   "cell_type": "markdown",
   "metadata": {},
   "source": [
    "### 3. KNN Algorithm\n",
    "\n",
    "KNN merupakan algoritma yang digunakan dalam melakukan memecahkan permasalahan klasifikasi, sehingga menghasilkan output diskrit. Contoh untuk output berupa diskrit adalah output yang hasilnya pasti seperti ketika menghitung 1 + 1 = 2, jawabannya bukan mendekati 2. KNN akan melakukan klasifikasi terhadap objek berdasarkan data pembelajaran yang jaraknya paling dekat dengan objek tersebut.\n",
    "\n",
    "KNN akan bekerja berdasarkan jarak minimum dari data baru ke data training untuk menentukan tetangga terdekat. Setelah itu akan didapatkan data mayoritas sebagai hasil prediksi dari data baru tadi."
   ]
  },
  {
   "cell_type": "code",
   "execution_count": 19,
   "metadata": {},
   "outputs": [],
   "source": [
    "import operator\n",
    "\n",
    "def kNearestNeighbor(data_train, data_test, k):\n",
    "    distances = {}\n",
    "    sort = {}\n",
    "    neighbors = []\n",
    "    vote_class = {}\n",
    "    \n",
    "    for i in range(len(data_train)):\n",
    "        distance = euclideanDistance(data_train.iloc[i], data_test)\n",
    "        distances[i] = distance\n",
    "        \n",
    "    sorted_distances = sorted(distances.items(), key=operator.itemgetter(1))\n",
    "    \n",
    "    for i in range(k):\n",
    "        neighbors.append(sorted_distances[i][0])\n",
    "    \n",
    "    for x in range(len(neighbors)):\n",
    "        class_in_datatrain = data_train.iloc[neighbors[x]][-1]\n",
    "    \n",
    "        if class_in_datatrain in vote_class:\n",
    "            vote_class[class_in_datatrain] += 1\n",
    "        else:\n",
    "            vote_class[class_in_datatrain] = 1\n",
    "\n",
    "    sorted_vote_class = sorted(vote_class.items(), key=operator.itemgetter(1))\n",
    "    \n",
    "    return sorted_vote_class[-1][0]"
   ]
  },
  {
   "cell_type": "code",
   "execution_count": null,
   "metadata": {},
   "outputs": [],
   "source": []
  }
 ],
 "metadata": {
  "kernelspec": {
   "display_name": "Python 3",
   "language": "python",
   "name": "python3"
  },
  "language_info": {
   "codemirror_mode": {
    "name": "ipython",
    "version": 3
   },
   "file_extension": ".py",
   "mimetype": "text/x-python",
   "name": "python",
   "nbconvert_exporter": "python",
   "pygments_lexer": "ipython3",
   "version": "3.6.8"
  }
 },
 "nbformat": 4,
 "nbformat_minor": 2
}
